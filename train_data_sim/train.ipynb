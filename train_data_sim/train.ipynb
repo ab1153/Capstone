{
 "cells": [
  {
   "cell_type": "code",
   "execution_count": 1,
   "metadata": {},
   "outputs": [
    {
     "name": "stderr",
     "output_type": "stream",
     "text": [
      "Using TensorFlow backend.\n"
     ]
    }
   ],
   "source": [
    "import cv2\n",
    "import numpy as np\n",
    "import matplotlib.pylab as plt\n",
    "import keras\n",
    "from keras.layers import \\\n",
    "    Dense, Dropout, Activation, Flatten, \\\n",
    "    Convolution2D, MaxPooling2D, Lambda\n",
    "from keras.models import Sequential\n",
    "from keras.optimizers import Adam\n",
    "from keras.callbacks import ModelCheckpoint\n",
    "from sklearn.utils import shuffle\n",
    "from sklearn.model_selection import train_test_split\n",
    "import os\n"
   ]
  },
  {
   "cell_type": "code",
   "execution_count": 88,
   "metadata": {
    "collapsed": true
   },
   "outputs": [],
   "source": [
    "import glob\n",
    "from imgaug import augmenters as iaa\n",
    "from keras.utils import np_utils"
   ]
  },
  {
   "cell_type": "code",
   "execution_count": 94,
   "metadata": {},
   "outputs": [],
   "source": [
    "# model\n",
    "model = Sequential()\n",
    "model.add(Lambda(lambda x: x/127.5 - 1.0, input_shape=(64,64,3)))\n",
    "model.add(Convolution2D(8, 3, 3, activation='relu', input_shape=(64,64,3)))\n",
    "model.add(MaxPooling2D(pool_size=(2, 2)))\n",
    "model.add(Convolution2D(12, 3, 3, activation='relu'))\n",
    "model.add(MaxPooling2D(pool_size=(2, 2), border_mode='same'))\n",
    "model.add(Convolution2D(16, 3, 3, activation='relu'))\n",
    "model.add(MaxPooling2D(pool_size=(2, 2), border_mode='same'))\n",
    "model.add(Flatten())\n",
    "model.add(Dense(64, activation='relu'))\n",
    "model.add(Dense(16, activation='relu'))\n",
    "model.add(Dense(4, activation='softmax'))\n",
    "model.compile(loss='categorical_crossentropy', optimizer='adam', metrics=['accuracy'])"
   ]
  },
  {
   "cell_type": "code",
   "execution_count": 62,
   "metadata": {
    "collapsed": true
   },
   "outputs": [],
   "source": [
    "def aug(imgs, max_num, seq):\n",
    "    n = max_num // len(imgs) - 1\n",
    "    b = max_num % len(imgs)\n",
    "    res = imgs\n",
    "    for _ in range(n):\n",
    "        aug_imgs = seq.augment_images(imgs)\n",
    "        res = res + aug_imgs\n",
    "    for i in range(b):\n",
    "        img = seq.augment_images(imgs[i])\n",
    "        res.append(img)\n",
    "    return res\n"
   ]
  },
  {
   "cell_type": "code",
   "execution_count": 48,
   "metadata": {},
   "outputs": [],
   "source": [
    "red = [cv2.imread(f) for f in glob.glob('*_state_0.jpg')]\n",
    "yellow = [cv2.imread(f) for f in glob.glob('*_state_1.jpg')]\n",
    "green = [cv2.imread(f) for f in glob.glob('*_state_2.jpg')]\n",
    "unknown = [cv2.imread(f) for f in glob.glob('*_state_4.jpg')]"
   ]
  },
  {
   "cell_type": "code",
   "execution_count": 68,
   "metadata": {},
   "outputs": [
    {
     "name": "stdout",
     "output_type": "stream",
     "text": [
      "456\n",
      "456\n",
      "456\n",
      "456\n"
     ]
    }
   ],
   "source": [
    "print len(red)\n",
    "print len(yellow_aug)\n",
    "print len(green_aug)\n",
    "print len(unknown_aug)"
   ]
  },
  {
   "cell_type": "code",
   "execution_count": 69,
   "metadata": {
    "collapsed": true
   },
   "outputs": [],
   "source": [
    "top_len = len(red)"
   ]
  },
  {
   "cell_type": "code",
   "execution_count": 65,
   "metadata": {},
   "outputs": [],
   "source": [
    "seq = iaa.Sequential([\n",
    "    iaa.Fliplr(.5),\n",
    "    iaa.Affine(translate_percent={\"x\": (-0.2, 0.2), \"y\": (-0.2, 0.2)}),\n",
    "    iaa.GaussianBlur(sigma=(0, 1.0))\n",
    "])\n",
    "yellow_aug = aug(yellow, len(red), seq)"
   ]
  },
  {
   "cell_type": "code",
   "execution_count": 66,
   "metadata": {
    "collapsed": true
   },
   "outputs": [],
   "source": [
    "seq = iaa.Sequential([\n",
    "    iaa.Fliplr(0.5),\n",
    "    iaa.Affine(translate_percent={\"x\": (-0.2, 0.2), \"y\": (-0.2, 0.2)}),\n",
    "    iaa.GaussianBlur(sigma=(0.,1.0))\n",
    "])\n",
    "green_aug = aug(green, len(red), seq)"
   ]
  },
  {
   "cell_type": "code",
   "execution_count": 67,
   "metadata": {
    "collapsed": true
   },
   "outputs": [],
   "source": [
    "seq = iaa.Sequential([\n",
    "    iaa.Fliplr(.5),\n",
    "    iaa.AdditiveGaussianNoise(0, scale=(0,255), per_channel=0.8),\n",
    "    iaa.GaussianBlur(sigma=(0, 3.0))\n",
    "])\n",
    "unknown_aug = aug(unknown, len(red), seq)"
   ]
  },
  {
   "cell_type": "code",
   "execution_count": 133,
   "metadata": {
    "collapsed": true
   },
   "outputs": [],
   "source": [
    "xs = red + yellow_aug + green_aug + unknown_aug\n",
    "ys = [0]*top_len + [1]*top_len + [2]*top_len + [3]*top_len\n",
    "\n",
    "xs_tr = np.array(xs)\n",
    "ys_tr = np_utils.to_categorical(ys, 4)\n",
    "\n",
    "xs_tr, ys_tr = shuffle(xs_tr, ys_tr)"
   ]
  },
  {
   "cell_type": "code",
   "execution_count": 136,
   "metadata": {},
   "outputs": [
    {
     "name": "stdout",
     "output_type": "stream",
     "text": [
      "Train on 1641 samples, validate on 183 samples\n",
      "Epoch 1/1\n",
      "1641/1641 [==============================] - 4s - loss: 0.0118 - acc: 0.9957 - val_loss: 0.0078 - val_acc: 1.0000\n"
     ]
    }
   ],
   "source": [
    "callbacks = [\n",
    "    keras.callbacks.EarlyStopping(monitor='val_loss',patience=2,verbose=0)\n",
    "]\n",
    "model.fit(x=xs_tr, y=ys_tr, batch_size=64, nb_epoch=1, validation_split=0.1, callbacks=callbacks)\n",
    "model.save('tl_model.h5')"
   ]
  },
  {
   "cell_type": "code",
   "execution_count": null,
   "metadata": {
    "collapsed": true
   },
   "outputs": [],
   "source": []
  }
 ],
 "metadata": {
  "kernelspec": {
   "display_name": "Python 2",
   "language": "python",
   "name": "python2"
  },
  "language_info": {
   "codemirror_mode": {
    "name": "ipython",
    "version": 2
   },
   "file_extension": ".py",
   "mimetype": "text/x-python",
   "name": "python",
   "nbconvert_exporter": "python",
   "pygments_lexer": "ipython2",
   "version": "2.7.13"
  }
 },
 "nbformat": 4,
 "nbformat_minor": 2
}
